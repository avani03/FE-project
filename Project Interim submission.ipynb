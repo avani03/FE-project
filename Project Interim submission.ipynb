{
 "cells": [
  {
   "cell_type": "markdown",
   "metadata": {},
   "source": [
    "### MODELING THE FUEL ECONOMY AND EMISSIONS OF VEHICLES IN U.S."
   ]
  },
  {
   "cell_type": "markdown",
   "metadata": {},
   "source": [
    "#### INTRODUCTION\n",
    "\n",
    "To make informed decisions about travel and vehicle purchase, consumers need unbiased and accurate information of the fuel economy. Fuel economy estimates by Environmental Protection Agency (EPA) provides a standard for users to make more informed decision while purchasing a new vehicle. It provides a reliable basis for comparing different vehicles in terms of their fuel economy estimates and select the most fuel-efficient option. The estimates are based on laboratory testing under standardized conditions to enable levelized comparison. The subsequent estimates of fuel cost are evaluated using the assumptions on the amount of miles travelled and its split into highway and city travel. In addition to the fuel economy, the tests also suggests the corresponding tailpipe CO2 emissions. EPA has also defined a scale from 1 to 10 for emissions rating level called as EPA Smog Rating  (https://www.epa.gov/greenvehicles/smog-rating) with 10 being the cleanest vehicle. Hence, this database generated as a result of fuel economy testing by EPA provides a good guideline for mapping the vehicle to its fuel consumption and emissions related information."
   ]
  },
  {
   "cell_type": "markdown",
   "metadata": {},
   "source": [
    "#### PROJECT OBJECTIVE\n",
    "The database prepared by EPA on mapping the different types of vehicles with their fuel economy and emissions information is used as the database to build a supervised learning model. The aim of the model is to predict fuel economy and perform classification into their respective emission rating level from the vehicle related information of cars. Different datasets such as vehicles information, emissions data and user’s MPG value records are merged to train the model and achieve the project objective.\n",
    "\n",
    "#### OVERVIEW OF DATABASE\n",
    "EPA’s fuel economy website contains database of more than 30,000 vehicles. It is divided into different databases indexed on 'vehicle id' to get corresponding information. \n",
    "The 'vehicles' database contains information related to the specifications of the car, engine type, fuel economy, annual fuel consumption among others. The car specifications include the make, model and class while the engine specifications includes cylinders, piston displacement, transmission and engine description. In addition to the variables defining the car/engine specifications, fuel related information is provided such as fuel type, fuel consumption and its fuel economy. The fuel related information is further divided into fueltype1 and fueltype2 for hybrid engines. Hence, the associated columns such as ‘barrels08’ or ‘co2 tailpipe emissions’ are separated into two different columns for each fuel type. \n",
    "The 'emissions' database connects the vehicle id to the EPA emissions score rating, while the 'yourMPGdata' database gives the MPG values reported by users for their vehicle type. "
   ]
  },
  {
   "cell_type": "markdown",
   "metadata": {},
   "source": [
    "#### DATA CLEANING\n",
    "The csv database for ‘vehicles’ and ‘emissions’ are downloaded from EPA’s fuel economy website (http://www.fueleconomy.gov/feg/ws/index.shtml). Each of the variables are analyzed to limit the number of variables and curate it to be used for modeling. The fuel related columns are combined into one column by combining the information for both the fuel types. The rows with crucial missing information are removed from the database. Since, we have a supervised dataset, this contains both input and output variables of the model. "
   ]
  },
  {
   "cell_type": "markdown",
   "metadata": {},
   "source": [
    "#### FEATURE SELECTION\n",
    "The csv database for ‘vehicles’ and ‘emissions’ have 83 and 8 columns respectively. The next task we undertook is to select the relevant set of the features. The first method of selection was a simple brainstorming over the relevance of features w.r.t. to the problem we are trying to solve :\n",
    "In first iteration we eliminated all the columns that were not contributing to any useful information. We validated this step by referring to the documentation available on fueleconomy.gov. <https://www.fueleconomy.gov/feg/pdfs/guides/FEG2017.pdf>\n",
    "Step (1) helped us reduce the number of attributes to be analyzed further to 45. Next, we removed all those attributes that had more than 50% of the data missing (Nan Tolerance Threshold).\n",
    "Finally, we were left with 17 attributes that deemed most relevant to the project scope.\n",
    "\n",
    "\n",
    "We plotted the distribution, correlation and spread plots in a matrix for subsets of the features to understand how they relate with each other."
   ]
  },
  {
   "cell_type": "markdown",
   "metadata": {},
   "source": [
    "[<img src=\"https://s14.postimg.org/41q00wwsh/Matrix.png\",width=600,height=600>](https://s14.postimg.org/41q00wwsh/Matrix.png)"
   ]
  },
  {
   "cell_type": "markdown",
   "metadata": {},
   "source": [
    "#### FEATURE EXTRACTION:\n",
    "The key step for data modeling is to select the right features that are uncorrelated to each other and correlates strongly to the output variables being considered. For this purpose, we are exploring the possibility of reducing the dimensionality of the features.\n",
    "\n",
    "Preparing the data for dimensionality reduction:\n",
    "- The major hurdle in data preprocessing was handling the Categorical variables. We started with one-hot encoding for categorical variables, only to realize that 2 features had categories in the order of 1000. Hence we came up with the following approach:\n",
    "- Use all the Categorical variables that describe identification of the vehicle to create one numerical variable that acts as a surrogate id. \n",
    "- Perform one-hot encoding of the remaining categorical variables.\n",
    "- This approach helped us to reduce the number of features to 47 (including one-hot encoding)\n",
    "\n",
    "We used this preprocessed dataframe as our input to PCA function (Scikitlearn), which we are using for dimensionality reduction of the features.  \n"
   ]
  },
  {
   "cell_type": "markdown",
   "metadata": {},
   "source": [
    "#### Ongoing/Future Work\n",
    "Once the right features are selected, they will be used to build the model for predicting the fuel economy and classify into the EPA emissions rating score. It will be further extended to include the different MPG values reported by the users for the same vehicle type to assess the reliability of the fuel economy estimates by EPA."
   ]
  },
  {
   "cell_type": "code",
   "execution_count": null,
   "metadata": {
    "collapsed": true
   },
   "outputs": [],
   "source": []
  }
 ],
 "metadata": {
  "kernelspec": {
   "display_name": "Python 2",
   "language": "python",
   "name": "python2"
  },
  "language_info": {
   "codemirror_mode": {
    "name": "ipython",
    "version": 2
   },
   "file_extension": ".py",
   "mimetype": "text/x-python",
   "name": "python",
   "nbconvert_exporter": "python",
   "pygments_lexer": "ipython2",
   "version": "2.7.10"
  }
 },
 "nbformat": 4,
 "nbformat_minor": 0
}
